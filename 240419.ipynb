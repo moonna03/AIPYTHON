{
  "nbformat": 4,
  "nbformat_minor": 0,
  "metadata": {
    "colab": {
      "provenance": [],
      "authorship_tag": "ABX9TyNOJtPwmkGvxvfWHtU/hWk0",
      "include_colab_link": true
    },
    "kernelspec": {
      "name": "python3",
      "display_name": "Python 3"
    },
    "language_info": {
      "name": "python"
    }
  },
  "cells": [
    {
      "cell_type": "markdown",
      "metadata": {
        "id": "view-in-github",
        "colab_type": "text"
      },
      "source": [
        "<a href=\"https://colab.research.google.com/github/moonna03/AIpython/blob/main/240419.ipynb\" target=\"_parent\"><img src=\"https://colab.research.google.com/assets/colab-badge.svg\" alt=\"Open In Colab\"/></a>"
      ]
    },
    {
      "cell_type": "markdown",
      "source": [
        "# **학생들의 성적 계산**"
      ],
      "metadata": {
        "id": "wYZKfTC8Ctws"
      }
    },
    {
      "cell_type": "code",
      "execution_count": 11,
      "metadata": {
        "colab": {
          "base_uri": "https://localhost:8080/"
        },
        "id": "r9p_e5Vo9TEU",
        "outputId": "a07ed9ce-8f7c-45aa-b194-11a172a88965"
      },
      "outputs": [
        {
          "output_type": "stream",
          "name": "stdout",
          "text": [
            "학생의 점수를 입력하세요.60\n",
            "학생의 점수를 입력하세요.50\n",
            "학생의 점수를 입력하세요.40\n",
            "학생의 점수를 입력하세요.gt\n",
            "입력 데이터 출력 : [60, 50, 40]\n",
            "합계 :  150\n",
            "인원수 :  3\n",
            "평균 :  50.0\n"
          ]
        }
      ],
      "source": [
        "score_list = []\n",
        "\n",
        "while True:\n",
        "  score = input(\"학생의 점수를 입력하세요.\")\n",
        "  if score.isdigit():\n",
        "    score = int(score)\n",
        "    score_list.append(score)\n",
        "  else:\n",
        "    break\n",
        "\n",
        "print(\"입력 데이터 출력 :\", score_list)\n",
        "print(\"합계 : \", sum(score_list))\n",
        "print(\"인원수 : \", len(score_list))\n",
        "avg = sum(score_list) / len(score_list)\n",
        "print(\"평균 : \", avg)"
      ]
    },
    {
      "cell_type": "code",
      "source": [
        " txt = \"apple#banana#cherry#orange\"\n",
        " x=txt.split(\"#\")\n",
        " print(x)"
      ],
      "metadata": {
        "colab": {
          "base_uri": "https://localhost:8080/"
        },
        "id": "24DHYWpzFfQq",
        "outputId": "4b499092-e4d0-416f-b7b3-5049d399625d"
      },
      "execution_count": 12,
      "outputs": [
        {
          "output_type": "stream",
          "name": "stdout",
          "text": [
            "['apple', 'banana', 'cherry', 'orange']\n"
          ]
        }
      ]
    },
    {
      "cell_type": "code",
      "source": [
        "a = ['Python', 'Java', 'Ruby']\n",
        "b = \"->\".join(a)\n",
        "print(b)"
      ],
      "metadata": {
        "colab": {
          "base_uri": "https://localhost:8080/"
        },
        "id": "hj380uaZHW8Q",
        "outputId": "1cf47e90-2e97-4ea7-f444-b8edd82c3010"
      },
      "execution_count": 13,
      "outputs": [
        {
          "output_type": "stream",
          "name": "stdout",
          "text": [
            "Python->Java->Ruby\n"
          ]
        }
      ]
    },
    {
      "cell_type": "code",
      "source": [
        "number_list = [ x**2 for x in range(10) if x % 2 == 0]\n",
        "print(number_list)"
      ],
      "metadata": {
        "colab": {
          "base_uri": "https://localhost:8080/"
        },
        "id": "TmM4uh8mJ2Kg",
        "outputId": "289ff0bf-9479-4dbc-b763-d34af2a60cfc"
      },
      "execution_count": 15,
      "outputs": [
        {
          "output_type": "stream",
          "name": "stdout",
          "text": [
            "[0, 4, 16, 36, 64]\n"
          ]
        }
      ]
    },
    {
      "cell_type": "code",
      "source": [
        "cities = [\"Seoul\", \"New York\", \"London\", \"Shanghai\", \"Paris\", \"Tokyo\"]\n",
        "s_cities = [city for city in cities if city.startswith('S')]\n",
        "print(s_cities)"
      ],
      "metadata": {
        "colab": {
          "base_uri": "https://localhost:8080/"
        },
        "id": "D7_zLUi2MX33",
        "outputId": "4367addf-a57d-4f6e-fc1e-766e3839174a"
      },
      "execution_count": 16,
      "outputs": [
        {
          "output_type": "stream",
          "name": "stdout",
          "text": [
            "['Seoul', 'Shanghai']\n"
          ]
        }
      ]
    },
    {
      "cell_type": "code",
      "source": [
        "nums = [1, 2, 3, 4, 5, 6, 7, 8, 9, 10]\n",
        "odd_nums = list(filter(lambda x: x % 2 == 0, nums))\n",
        "print(odd_nums)"
      ],
      "metadata": {
        "colab": {
          "base_uri": "https://localhost:8080/"
        },
        "id": "PpchGTIZNQ6P",
        "outputId": "aadd693f-39db-4929-a835-ff5310e7cf24"
      },
      "execution_count": 18,
      "outputs": [
        {
          "output_type": "stream",
          "name": "stdout",
          "text": [
            "[2, 4, 6, 8, 10]\n"
          ]
        }
      ]
    },
    {
      "cell_type": "code",
      "source": [
        "a = ['Python', 'Java', 'JavaScript']\n",
        "newlist = [(idx, b) for idx, b in enumerate(a)]\n",
        "print(newlist)"
      ],
      "metadata": {
        "colab": {
          "base_uri": "https://localhost:8080/"
        },
        "id": "aD6goRvJRQTG",
        "outputId": "899d0dca-4c88-4420-8e9e-e69947a1dc7c"
      },
      "execution_count": 25,
      "outputs": [
        {
          "output_type": "stream",
          "name": "stdout",
          "text": [
            "[(0, 'Python'), (1, 'Java'), (2, 'JavaScript')]\n"
          ]
        }
      ]
    },
    {
      "cell_type": "code",
      "source": [
        "def convert_to_grade(score):\n",
        "  if score >= 90:\n",
        "    return 'A'\n",
        "  elif score >= 80:\n",
        "    return 'B'\n",
        "  elif score >= 70:\n",
        "    return 'C'\n",
        "  elif score >= 60:\n",
        "    return 'D'\n",
        "  else:\n",
        "    return 'F'\n",
        "\n",
        "scores = [88, 92, 78, 60, 75, 95]\n",
        "grade = list(map(convert_to_grade, scores))\n",
        "print(grade)\n"
      ],
      "metadata": {
        "colab": {
          "base_uri": "https://localhost:8080/"
        },
        "id": "mEMdaMlEUPVk",
        "outputId": "15e90983-4b68-4ec4-e33c-c76e0a562205"
      },
      "execution_count": 30,
      "outputs": [
        {
          "output_type": "stream",
          "name": "stdout",
          "text": [
            "['B', 'A', 'C', 'D', 'C', 'A']\n"
          ]
        }
      ]
    },
    {
      "cell_type": "code",
      "source": [
        "ages = [5, 12, 17, 18, 24, 32]\n",
        "adults = list(filter(lambda age: age >= 18, ages))\n",
        "print(adults)"
      ],
      "metadata": {
        "colab": {
          "base_uri": "https://localhost:8080/"
        },
        "id": "gKDZ9lP0Vgj1",
        "outputId": "543c2e7b-ecb7-4fd8-c997-719fa8b28bc1"
      },
      "execution_count": 31,
      "outputs": [
        {
          "output_type": "stream",
          "name": "stdout",
          "text": [
            "[18, 24, 32]\n"
          ]
        }
      ]
    }
  ]
}