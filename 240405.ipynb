{
  "nbformat": 4,
  "nbformat_minor": 0,
  "metadata": {
    "colab": {
      "provenance": [],
      "authorship_tag": "ABX9TyOgm74WVXjFheSHH3farBqt",
      "include_colab_link": true
    },
    "kernelspec": {
      "name": "python3",
      "display_name": "Python 3"
    },
    "language_info": {
      "name": "python"
    }
  },
  "cells": [
    {
      "cell_type": "markdown",
      "metadata": {
        "id": "view-in-github",
        "colab_type": "text"
      },
      "source": [
        "<a href=\"https://colab.research.google.com/github/moonna03/AIpython/blob/main/240405.ipynb\" target=\"_parent\"><img src=\"https://colab.research.google.com/assets/colab-badge.svg\" alt=\"Open In Colab\"/></a>"
      ]
    },
    {
      "cell_type": "code",
      "execution_count": 1,
      "metadata": {
        "colab": {
          "base_uri": "https://localhost:8080/"
        },
        "id": "aotLuZp_3qNV",
        "outputId": "6771fcb5-c060-48e4-be13-d7f1375e4e70"
      },
      "outputs": [
        {
          "output_type": "stream",
          "name": "stdout",
          "text": [
            "a는 5보다 크다\n",
            "프로그램 종료\n"
          ]
        }
      ],
      "source": [
        "a=10\n",
        "if a>5:\n",
        "  print(\"a는 5보다 크다\")\n",
        "print(\"프로그램 종료\")"
      ]
    },
    {
      "cell_type": "code",
      "source": [
        "a=10\n",
        "if a>5:\n",
        "  print(\"a는 5보다 크다\")\n",
        "elif a<=5:\n",
        "  print(\"a는 5이하입니다\")"
      ],
      "metadata": {
        "colab": {
          "base_uri": "https://localhost:8080/"
        },
        "id": "cdNu8DOQ5Jw-",
        "outputId": "66b66288-c48a-4f83-d227-5534e5834331"
      },
      "execution_count": 2,
      "outputs": [
        {
          "output_type": "stream",
          "name": "stdout",
          "text": [
            "a는 5보다 크다\n"
          ]
        }
      ]
    },
    {
      "cell_type": "markdown",
      "source": [
        "# **a에 할당한 값의 짝수 홀수 여부를 알려주는 프로그램**\n"
      ],
      "metadata": {
        "id": "_BmUip3q5sG2"
      }
    },
    {
      "cell_type": "code",
      "source": [
        "a=int(input(\"a의 값을 입력하세요\"))\n",
        "\n",
        "if a%2 == 0 :\n",
        "  print(\"a는 짝수입니다\")\n",
        "elif a%2 == 1 :\n",
        "  print(\"a는 홀수입니다\")"
      ],
      "metadata": {
        "colab": {
          "base_uri": "https://localhost:8080/"
        },
        "id": "RCEfXrJB5pIl",
        "outputId": "06059027-4f52-45d9-f790-d6295705cf45"
      },
      "execution_count": 6,
      "outputs": [
        {
          "output_type": "stream",
          "name": "stdout",
          "text": [
            "a의 값을 입력하세요5\n",
            "a는 홀수입니다\n"
          ]
        }
      ]
    },
    {
      "cell_type": "markdown",
      "source": [
        "## **성적 입력하기**"
      ],
      "metadata": {
        "id": "4vOY7khUI1D0"
      }
    },
    {
      "cell_type": "code",
      "source": [
        "a=int(input(\"a의 점수를 입력하세요\"))\n",
        "\n",
        "if a>=90:\n",
        "  print(\"A\")\n",
        "elif a>=80:\n",
        "  print(\"B\")\n",
        "elif a>=70:\n",
        "  print(\"C\")\n",
        "elif a>=60:\n",
        "  print(\"D\")\n",
        "else:\n",
        "  print(\"F\")"
      ],
      "metadata": {
        "colab": {
          "base_uri": "https://localhost:8080/"
        },
        "id": "MrinkNkG7hqu",
        "outputId": "a4683d75-5637-4e23-85a6-a408175f4441"
      },
      "execution_count": 16,
      "outputs": [
        {
          "output_type": "stream",
          "name": "stdout",
          "text": [
            "a의 점수를 입력하세요100\n",
            "A\n"
          ]
        }
      ]
    },
    {
      "cell_type": "code",
      "source": [
        "a=[1, 2, 3, 4, 5]\n",
        "n=0\n",
        "for i in a:\n",
        "  print(i)\n",
        "  n=n+i\n",
        "print(n)"
      ],
      "metadata": {
        "colab": {
          "base_uri": "https://localhost:8080/"
        },
        "id": "8mcGD-3jE9e9",
        "outputId": "754ab0d5-1b81-4c05-e75d-4e3c3ceb433f"
      },
      "execution_count": 26,
      "outputs": [
        {
          "output_type": "stream",
          "name": "stdout",
          "text": [
            "1\n",
            "2\n",
            "3\n",
            "4\n",
            "5\n",
            "15\n"
          ]
        }
      ]
    },
    {
      "cell_type": "code",
      "source": [
        "for i in range(11):\n",
        "  print(i)"
      ],
      "metadata": {
        "colab": {
          "base_uri": "https://localhost:8080/"
        },
        "id": "9k8PwFjHHtKt",
        "outputId": "5085937f-39e1-4d4e-8625-92cdb9e9cd01"
      },
      "execution_count": 30,
      "outputs": [
        {
          "output_type": "stream",
          "name": "stdout",
          "text": [
            "0\n",
            "1\n",
            "2\n",
            "3\n",
            "4\n",
            "5\n",
            "6\n",
            "7\n",
            "8\n",
            "9\n",
            "10\n"
          ]
        }
      ]
    },
    {
      "cell_type": "markdown",
      "source": [
        "## **1-100사이의 홀수, 짝수 찍기** **굵은 텍스트**"
      ],
      "metadata": {
        "id": "xUOHhK8vIpNc"
      }
    },
    {
      "cell_type": "code",
      "source": [
        "for i in range(1,101,2):\n",
        "  print(i)\n",
        "\n",
        "for i in range(2,101,2):\n",
        "  print(i)"
      ],
      "metadata": {
        "colab": {
          "base_uri": "https://localhost:8080/"
        },
        "id": "UekerINuIRat",
        "outputId": "42b0c004-d049-4f25-e1b0-2d78d5f448d3"
      },
      "execution_count": 33,
      "outputs": [
        {
          "output_type": "stream",
          "name": "stdout",
          "text": [
            "1\n",
            "3\n",
            "5\n",
            "7\n",
            "9\n",
            "11\n",
            "13\n",
            "15\n",
            "17\n",
            "19\n",
            "21\n",
            "23\n",
            "25\n",
            "27\n",
            "29\n",
            "31\n",
            "33\n",
            "35\n",
            "37\n",
            "39\n",
            "41\n",
            "43\n",
            "45\n",
            "47\n",
            "49\n",
            "51\n",
            "53\n",
            "55\n",
            "57\n",
            "59\n",
            "61\n",
            "63\n",
            "65\n",
            "67\n",
            "69\n",
            "71\n",
            "73\n",
            "75\n",
            "77\n",
            "79\n",
            "81\n",
            "83\n",
            "85\n",
            "87\n",
            "89\n",
            "91\n",
            "93\n",
            "95\n",
            "97\n",
            "99\n",
            "2\n",
            "4\n",
            "6\n",
            "8\n",
            "10\n",
            "12\n",
            "14\n",
            "16\n",
            "18\n",
            "20\n",
            "22\n",
            "24\n",
            "26\n",
            "28\n",
            "30\n",
            "32\n",
            "34\n",
            "36\n",
            "38\n",
            "40\n",
            "42\n",
            "44\n",
            "46\n",
            "48\n",
            "50\n",
            "52\n",
            "54\n",
            "56\n",
            "58\n",
            "60\n",
            "62\n",
            "64\n",
            "66\n",
            "68\n",
            "70\n",
            "72\n",
            "74\n",
            "76\n",
            "78\n",
            "80\n",
            "82\n",
            "84\n",
            "86\n",
            "88\n",
            "90\n",
            "92\n",
            "94\n",
            "96\n",
            "98\n",
            "100\n"
          ]
        }
      ]
    },
    {
      "cell_type": "code",
      "source": [
        "for i in range(1,101):\n",
        "  if i%2 ==0 :\n",
        "    continue\n",
        "  print(i)"
      ],
      "metadata": {
        "colab": {
          "base_uri": "https://localhost:8080/"
        },
        "id": "6I_9gJZHI_vs",
        "outputId": "d97faa66-2e6c-4752-f05e-e6f624c0d1eb"
      },
      "execution_count": 35,
      "outputs": [
        {
          "output_type": "stream",
          "name": "stdout",
          "text": [
            "1\n",
            "3\n",
            "5\n",
            "7\n",
            "9\n",
            "11\n",
            "13\n",
            "15\n",
            "17\n",
            "19\n",
            "21\n",
            "23\n",
            "25\n",
            "27\n",
            "29\n",
            "31\n",
            "33\n",
            "35\n",
            "37\n",
            "39\n",
            "41\n",
            "43\n",
            "45\n",
            "47\n",
            "49\n",
            "51\n",
            "53\n",
            "55\n",
            "57\n",
            "59\n",
            "61\n",
            "63\n",
            "65\n",
            "67\n",
            "69\n",
            "71\n",
            "73\n",
            "75\n",
            "77\n",
            "79\n",
            "81\n",
            "83\n",
            "85\n",
            "87\n",
            "89\n",
            "91\n",
            "93\n",
            "95\n",
            "97\n",
            "99\n"
          ]
        }
      ]
    },
    {
      "cell_type": "markdown",
      "source": [
        "# **홀수의 합과 짝수의 합 따로 구하기**"
      ],
      "metadata": {
        "id": "YidEi56HLink"
      }
    },
    {
      "cell_type": "code",
      "source": [
        "a=0\n",
        "b=0\n",
        "\n",
        "for i in range(1,11):\n",
        "  if i%2 ==0 :\n",
        "    a=a+i\n",
        "  elif i%2==1:\n",
        "    b=b+i\n",
        "\n",
        "print(\"짝수의 합은\", a)\n",
        "print(\"홀수의 합은\", b)"
      ],
      "metadata": {
        "colab": {
          "base_uri": "https://localhost:8080/"
        },
        "id": "M5zOJhHEJ6qN",
        "outputId": "38d01fe6-df3c-43ab-c9a4-a4701380b51b"
      },
      "execution_count": 37,
      "outputs": [
        {
          "output_type": "stream",
          "name": "stdout",
          "text": [
            "짝수의 합은 30\n",
            "홀수의 합은 25\n"
          ]
        }
      ]
    },
    {
      "cell_type": "code",
      "source": [
        "n=int(input())\n",
        "a=0\n",
        "\n",
        "for i in range(1, n+1):\n",
        "  a=a+i\n",
        "\n",
        "print(a)\n"
      ],
      "metadata": {
        "colab": {
          "base_uri": "https://localhost:8080/"
        },
        "id": "lmwyI_IfNogT",
        "outputId": "09d05d02-8ca3-4dcd-92f4-3dfdf907f78b"
      },
      "execution_count": 42,
      "outputs": [
        {
          "output_type": "stream",
          "name": "stdout",
          "text": [
            "값을 입력하세요20\n",
            "210\n"
          ]
        }
      ]
    }
  ]
}