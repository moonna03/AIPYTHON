{
  "nbformat": 4,
  "nbformat_minor": 0,
  "metadata": {
    "colab": {
      "provenance": []
    },
    "kernelspec": {
      "name": "python3",
      "display_name": "Python 3"
    },
    "language_info": {
      "name": "python"
    }
  },
  "cells": [
    {
      "cell_type": "markdown",
      "source": [
        "**\"두 수를 입력받아서 합을 출력하는 프로그램\"**"
      ],
      "metadata": {
        "id": "Zw0GrlCN_30y"
      }
    },
    {
      "cell_type": "code",
      "execution_count": 1,
      "metadata": {
        "id": "jNMSR7yl-JJU",
        "colab": {
          "base_uri": "https://localhost:8080/"
        },
        "outputId": "d33d7a30-21e3-4412-883a-99b88e04832a"
      },
      "outputs": [
        {
          "output_type": "stream",
          "name": "stdout",
          "text": [
            "1 2\n",
            "3\n"
          ]
        }
      ],
      "source": [
        "a, b = map(int, input().split())\n",
        "\n",
        "print(a + b)"
      ]
    },
    {
      "cell_type": "code",
      "source": [
        "print(\"Hello python\")"
      ],
      "metadata": {
        "colab": {
          "base_uri": "https://localhost:8080/"
        },
        "id": "fuRoqdGn_dXT",
        "outputId": "39bde176-75e2-4759-9893-55f05f265f01"
      },
      "execution_count": 2,
      "outputs": [
        {
          "output_type": "stream",
          "name": "stdout",
          "text": [
            "Hello python\n"
          ]
        }
      ]
    },
    {
      "cell_type": "code",
      "source": [
        "# 입력 받기\n",
        "a, b = map(int, input().split())\n",
        "\n",
        "# A와 B를 비교하여 결과 출력\n",
        "if a > b:\n",
        "    print('>')\n",
        "elif a < b:\n",
        "    print('<')\n",
        "else:\n",
        "    print('==')"
      ],
      "metadata": {
        "colab": {
          "base_uri": "https://localhost:8080/"
        },
        "id": "S0kA9VkH_kN6",
        "outputId": "e0d154a4-a34c-492d-8977-7c9d30a027f3"
      },
      "execution_count": 3,
      "outputs": [
        {
          "output_type": "stream",
          "name": "stdout",
          "text": [
            "1 2\n",
            "<\n"
          ]
        }
      ]
    }
  ]
}