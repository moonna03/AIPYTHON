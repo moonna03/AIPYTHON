{
  "nbformat": 4,
  "nbformat_minor": 0,
  "metadata": {
    "colab": {
      "provenance": [],
      "authorship_tag": "ABX9TyO3l9zSa5HJVOLytz11QPjE",
      "include_colab_link": true
    },
    "kernelspec": {
      "name": "python3",
      "display_name": "Python 3"
    },
    "language_info": {
      "name": "python"
    }
  },
  "cells": [
    {
      "cell_type": "markdown",
      "metadata": {
        "id": "view-in-github",
        "colab_type": "text"
      },
      "source": [
        "<a href=\"https://colab.research.google.com/github/moonna03/AIpython/blob/main/240329.ipynb\" target=\"_parent\"><img src=\"https://colab.research.google.com/assets/colab-badge.svg\" alt=\"Open In Colab\"/></a>"
      ]
    },
    {
      "cell_type": "markdown",
      "source": [
        "**1. 분을 입력받아서 시간과 분을 출력하시오. (format 메소드 활용)**"
      ],
      "metadata": {
        "id": "rJTlKkVNGh0I"
      }
    },
    {
      "cell_type": "code",
      "execution_count": null,
      "metadata": {
        "colab": {
          "base_uri": "https://localhost:8080/"
        },
        "id": "xZZQc74nBcIL",
        "outputId": "36650d4b-1df5-4293-8398-d670f55d7366"
      },
      "outputs": [
        {
          "output_type": "stream",
          "name": "stdout",
          "text": [
            "총 분은?100\n",
            "1시간 40분\n"
          ]
        }
      ],
      "source": [
        "time = int(input(\"총 분은?\"))\n",
        "hour = time // 60\n",
        "minutes = time % 60\n",
        "print(\"{}시간 {}분\". format(hour, minutes))"
      ]
    },
    {
      "cell_type": "markdown",
      "source": [
        "**2. 섭씨 온도를 입력받아서 화씨온도를 출력하시오. (% 연산자 사용)**"
      ],
      "metadata": {
        "id": "it4EeJfDGxRs"
      }
    },
    {
      "cell_type": "code",
      "source": [
        "c = int(input(\"섭씨온도는?\"))\n",
        "f = c * 1.8 + 32\n",
        "print(\"섭씨 %d도는 화씨 %.1f도 입니다.\" %(c, f))"
      ],
      "metadata": {
        "colab": {
          "base_uri": "https://localhost:8080/"
        },
        "id": "RumdqR9CCrDX",
        "outputId": "282428bb-719e-40c4-d836-30a3e172c3d6"
      },
      "execution_count": 1,
      "outputs": [
        {
          "output_type": "stream",
          "name": "stdout",
          "text": [
            "섭씨온도는?31\n",
            "섭씨 31도는 화씨 87.8도 입니다.\n"
          ]
        }
      ]
    },
    {
      "cell_type": "markdown",
      "source": [
        "**3. 원의 반지름을 입력받아서 원의 둘레와 면적을 출력하시오.**"
      ],
      "metadata": {
        "id": "HdwRebdSHHIA"
      }
    },
    {
      "cell_type": "code",
      "source": [
        "r = int(input(\"반지름은?\"))\n",
        "PI = 3.14\n",
        "c = 2 * PI * r\n",
        "a = PI * ( r ** 2)\n",
        "print(\"반지름이 {}인 원의 둘레는 {}이고 면적은 {}입니다.\".format(r, c, a ))"
      ],
      "metadata": {
        "colab": {
          "base_uri": "https://localhost:8080/"
        },
        "id": "ymwHXZ0cDVX_",
        "outputId": "85983838-1251-4dfe-d7fa-599af40a37d0"
      },
      "execution_count": null,
      "outputs": [
        {
          "output_type": "stream",
          "name": "stdout",
          "text": [
            "반지름은?15\n",
            "반지름이 15인 원의 둘레는 94.2이고 면적은 706.5입니다.\n"
          ]
        }
      ]
    }
  ]
}