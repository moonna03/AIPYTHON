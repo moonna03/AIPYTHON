{
  "nbformat": 4,
  "nbformat_minor": 0,
  "metadata": {
    "colab": {
      "provenance": [],
      "authorship_tag": "ABX9TyMd6r9hggYpd/N3s/MRKfsF",
      "include_colab_link": true
    },
    "kernelspec": {
      "name": "python3",
      "display_name": "Python 3"
    },
    "language_info": {
      "name": "python"
    }
  },
  "cells": [
    {
      "cell_type": "markdown",
      "metadata": {
        "id": "view-in-github",
        "colab_type": "text"
      },
      "source": [
        "<a href=\"https://colab.research.google.com/github/moonna03/AIpython/blob/main/240412.ipynb\" target=\"_parent\"><img src=\"https://colab.research.google.com/assets/colab-badge.svg\" alt=\"Open In Colab\"/></a>"
      ]
    },
    {
      "cell_type": "code",
      "source": [
        "fruits = [\"banana\", \"apple\", \"orange\", \"cherry\"]\n",
        "print(fruits[1])"
      ],
      "metadata": {
        "colab": {
          "base_uri": "https://localhost:8080/"
        },
        "id": "Gm5-SsZvCa5N",
        "outputId": "8cb9be55-baa4-4d1a-ad44-a55edb82e2ef"
      },
      "execution_count": 4,
      "outputs": [
        {
          "output_type": "stream",
          "name": "stdout",
          "text": [
            "apple\n"
          ]
        }
      ]
    },
    {
      "cell_type": "code",
      "source": [
        "numbers = [10, 20, 30, 40, 50]\n",
        "print(numbers[4])"
      ],
      "metadata": {
        "colab": {
          "base_uri": "https://localhost:8080/"
        },
        "id": "LQ9cpW3tDQK0",
        "outputId": "962c3929-23f7-4432-957e-88f1f5e04bbf"
      },
      "execution_count": 5,
      "outputs": [
        {
          "output_type": "stream",
          "name": "stdout",
          "text": [
            "50\n"
          ]
        }
      ]
    },
    {
      "cell_type": "code",
      "source": [
        "fruits = [\"apple\", \"banana\", \"cherry\"]\n",
        "fruits[1] = \"grape\"\n",
        "print(fruits[1])"
      ],
      "metadata": {
        "colab": {
          "base_uri": "https://localhost:8080/"
        },
        "id": "uL_-kM3eDuZn",
        "outputId": "baedc6b2-b899-4fa8-d50b-626387f2cb7e"
      },
      "execution_count": 6,
      "outputs": [
        {
          "output_type": "stream",
          "name": "stdout",
          "text": [
            "grape\n"
          ]
        }
      ]
    },
    {
      "cell_type": "code",
      "source": [
        "fruits = [\"apple\", \"banana\", \"cherry\"]\n",
        "fruits.append(\"strawberry\")\n",
        "print(fruits)"
      ],
      "metadata": {
        "colab": {
          "base_uri": "https://localhost:8080/"
        },
        "id": "JV8dMfnLDug1",
        "outputId": "52cbb915-06a2-4ec0-be45-abfa31e6b33e"
      },
      "execution_count": 7,
      "outputs": [
        {
          "output_type": "stream",
          "name": "stdout",
          "text": [
            "['apple', 'banana', 'cherry', 'strawberry']\n"
          ]
        }
      ]
    },
    {
      "cell_type": "code",
      "source": [
        "numbers = [10, 20, 30, 40, 50]\n",
        "numbers.remove(30)\n",
        "print(numbers)"
      ],
      "metadata": {
        "colab": {
          "base_uri": "https://localhost:8080/"
        },
        "id": "7zLLwf_gEndV",
        "outputId": "d4e7f267-8ca9-4cba-efee-84bf80ad0016"
      },
      "execution_count": 8,
      "outputs": [
        {
          "output_type": "stream",
          "name": "stdout",
          "text": [
            "[10, 20, 40, 50]\n"
          ]
        }
      ]
    },
    {
      "cell_type": "code",
      "source": [
        "numbers = [5, 10, 15, 20, 25]\n",
        "print(len(numbers))"
      ],
      "metadata": {
        "colab": {
          "base_uri": "https://localhost:8080/"
        },
        "id": "sEW8CogLEyJW",
        "outputId": "7029fc24-e3eb-4953-ecb4-58509e36415d"
      },
      "execution_count": 9,
      "outputs": [
        {
          "output_type": "stream",
          "name": "stdout",
          "text": [
            "5\n"
          ]
        }
      ]
    },
    {
      "cell_type": "code",
      "source": [
        "numbers = [10, 5, 8, 3, 15]\n",
        "print(max(numbers))\n",
        "print(min(numbers))"
      ],
      "metadata": {
        "colab": {
          "base_uri": "https://localhost:8080/"
        },
        "id": "hToVGkZTFGg8",
        "outputId": "b25c34bd-5742-4397-e596-b407592c82d5"
      },
      "execution_count": 10,
      "outputs": [
        {
          "output_type": "stream",
          "name": "stdout",
          "text": [
            "15\n",
            "3\n"
          ]
        }
      ]
    },
    {
      "cell_type": "code",
      "source": [
        "numbers = [10, 20, 30, 40, 50]\n",
        "print(sum(numbers))"
      ],
      "metadata": {
        "colab": {
          "base_uri": "https://localhost:8080/"
        },
        "id": "id9VUS5_FWDa",
        "outputId": "bd82fc4d-37dc-4ff0-f228-a8c68693fdca"
      },
      "execution_count": 11,
      "outputs": [
        {
          "output_type": "stream",
          "name": "stdout",
          "text": [
            "150\n"
          ]
        }
      ]
    },
    {
      "cell_type": "code",
      "source": [
        "numbers = [1, 2, 3, 4, 5]\n",
        "newlist = []\n",
        "for num in numbers:\n",
        "  num**=2\n",
        "  newlist.append(num)\n",
        "print(newlist)"
      ],
      "metadata": {
        "colab": {
          "base_uri": "https://localhost:8080/"
        },
        "id": "7BHu7wqaFhpz",
        "outputId": "f300274e-cb1f-4c43-abfe-eb331cc38aa6"
      },
      "execution_count": 14,
      "outputs": [
        {
          "output_type": "stream",
          "name": "stdout",
          "text": [
            "[1, 4, 9, 16, 25]\n"
          ]
        }
      ]
    },
    {
      "cell_type": "code",
      "source": [
        "fruits = [\"apple\", \"banana\", \"apple\", \"cherry\", \"apple\"]\n",
        "print(fruits.count(\"apple\"))"
      ],
      "metadata": {
        "colab": {
          "base_uri": "https://localhost:8080/"
        },
        "id": "BE-9EGxHFqRv",
        "outputId": "561f4ca0-b39a-4f0b-9f7d-4836108fa82e"
      },
      "execution_count": 12,
      "outputs": [
        {
          "output_type": "stream",
          "name": "stdout",
          "text": [
            "3\n"
          ]
        }
      ]
    },
    {
      "cell_type": "markdown",
      "source": [
        "## **함수 예제 (제곱 리스트)**"
      ],
      "metadata": {
        "id": "t0UE_sZsRL9P"
      }
    },
    {
      "cell_type": "code",
      "source": [
        "def square(numbers):\n",
        "  newlist=[]\n",
        "  for num in numbers:\n",
        "    newlist.append(num**2)\n",
        "  return newlist\n",
        "\n",
        "new = square([1, 2, 3, 4, 5])\n",
        "print(new)"
      ],
      "metadata": {
        "colab": {
          "base_uri": "https://localhost:8080/"
        },
        "id": "XBk44jd-M7sB",
        "outputId": "5ee32f98-f494-43dd-ac45-1d98240a5be5"
      },
      "execution_count": 16,
      "outputs": [
        {
          "output_type": "stream",
          "name": "stdout",
          "text": [
            "[1, 4, 9, 16, 25]\n"
          ]
        }
      ]
    },
    {
      "cell_type": "markdown",
      "source": [
        "# **BMI 계산 함수**"
      ],
      "metadata": {
        "id": "U2IbDzHmRA1H"
      }
    },
    {
      "cell_type": "code",
      "source": [
        "def BMI(h,w):\n",
        "  bmi = w/(0.01*h)**2\n",
        "  rounded_bmi = round(bmi, 2)\n",
        "  return rounded_bmi\n",
        "\n",
        "BMI(180, 80)"
      ],
      "metadata": {
        "colab": {
          "base_uri": "https://localhost:8080/"
        },
        "id": "yE7zbV_WPRIJ",
        "outputId": "a7e3624c-bae8-4f50-c2d4-8f1cedb105d6"
      },
      "execution_count": 22,
      "outputs": [
        {
          "output_type": "execute_result",
          "data": {
            "text/plain": [
              "24.69"
            ]
          },
          "metadata": {},
          "execution_count": 22
        }
      ]
    }
  ]
}